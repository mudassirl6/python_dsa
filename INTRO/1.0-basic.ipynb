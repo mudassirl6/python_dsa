{
 "cells": [
  {
   "cell_type": "markdown",
   "metadata": {},
   "source": [
    "### Syntax and Semantics in Python\n",
    "Video Outline:\n",
    "- Single line Comments and multiline comments \n",
    "- Definition of Syntax and Semantics\n",
    "- Basic Syntax Rules in Python\n",
    "- Understanding Semantics in Python\n",
    "- Common Syntax Errors and How to Avoid Them\n",
    "- Practical Code Examples"
   ]
  },
  {
   "cell_type": "markdown",
   "metadata": {},
   "source": [
    "Syntax refers to the set of rules that defines the combinations of symbols that are considered to be correctly structured programs in a language. In simpler terms, syntax is about the correct arrangement of words and symbols in a code.\n",
    "\n",
    "Semantics refers to the meaning or the interpretation of the symbols, characters, and commands in a language. It is about what the code is supposed to do when it runs."
   ]
  },
  {
   "cell_type": "code",
   "execution_count": 1,
   "metadata": {},
   "outputs": [
    {
     "name": "stdout",
     "output_type": "stream",
     "text": [
      "Krish\n",
      "Naik\n"
     ]
    }
   ],
   "source": [
    "## Basic Syntax Rules In Python\n",
    "## Case sensitivity- Python is case sensitive\n",
    "\n",
    "name=\"Krish\"\n",
    "Name=\"Naik\"\n",
    "\n",
    "print(name)\n",
    "print(Name)\n"
   ]
  },
  {
   "cell_type": "markdown",
   "metadata": {},
   "source": [
    "### Indentation\n",
    "Indentation in Python is used to define the structure and hierarchy of the code. Unlike many other programming languages that use braces {} to delimit blocks of code, Python uses indentation to determine the grouping of statements. This means that all the statements within a block must be indented at the same level."
   ]
  },
  {
   "cell_type": "code",
   "execution_count": 2,
   "metadata": {},
   "outputs": [
    {
     "name": "stdout",
     "output_type": "stream",
     "text": [
      "32\n",
      "32\n"
     ]
    }
   ],
   "source": [
    "## Indentation\n",
    "## Python uses indentation to define blocks of code. Consistent use of spaces (commonly 4) or a tab is required.\n",
    "\n",
    "age=32\n",
    "if age>30:\n",
    "    \n",
    "    print(age)\n",
    "    \n",
    "print(age)\n"
   ]
  },
  {
   "cell_type": "code",
   "execution_count": 3,
   "metadata": {},
   "outputs": [
    {
     "name": "stdout",
     "output_type": "stream",
     "text": [
      "Hello World\n"
     ]
    }
   ],
   "source": [
    "## This is a single line comment\n",
    "print(\"Hello World\")"
   ]
  },
  {
   "cell_type": "code",
   "execution_count": 4,
   "metadata": {},
   "outputs": [
    {
     "name": "stdout",
     "output_type": "stream",
     "text": [
      "43\n"
     ]
    }
   ],
   "source": [
    "## Line Continuation\n",
    "##Use a backslash (\\) to continue a statement to the next line\n",
    "\n",
    "total=1+2+3+4+5+6+7+\\\n",
    "4+5+6\n",
    "\n",
    "print(total)\n"
   ]
  },
  {
   "cell_type": "code",
   "execution_count": 5,
   "metadata": {},
   "outputs": [
    {
     "name": "stdout",
     "output_type": "stream",
     "text": [
      "15\n"
     ]
    }
   ],
   "source": [
    "## Multiple Statements on a single line\n",
    "x=5;y=10;z=x+y\n",
    "print(z)"
   ]
  },
  {
   "cell_type": "code",
   "execution_count": 6,
   "metadata": {},
   "outputs": [],
   "source": [
    "##Understand  Semnatics In Python\n",
    "# variable assignment\n",
    "age=32 ##age is an integer\n",
    "name=\"Krish\" ##name is a string"
   ]
  },
  {
   "cell_type": "code",
   "execution_count": 7,
   "metadata": {},
   "outputs": [
    {
     "data": {
      "text/plain": [
       "int"
      ]
     },
     "execution_count": 7,
     "metadata": {},
     "output_type": "execute_result"
    }
   ],
   "source": [
    "\n",
    "\n",
    "type(age)"
   ]
  },
  {
   "cell_type": "code",
   "execution_count": 8,
   "metadata": {},
   "outputs": [
    {
     "data": {
      "text/plain": [
       "str"
      ]
     },
     "execution_count": 8,
     "metadata": {},
     "output_type": "execute_result"
    }
   ],
   "source": [
    "type(name)"
   ]
  },
  {
   "cell_type": "code",
   "execution_count": 9,
   "metadata": {},
   "outputs": [
    {
     "name": "stdout",
     "output_type": "stream",
     "text": [
      "<class 'int'>\n",
      "<class 'str'>\n"
     ]
    }
   ],
   "source": [
    "## Type Inference\n",
    "variable=10\n",
    "print(type(variable))\n",
    "variable=\"Krish\"\n",
    "print(type(variable))"
   ]
  },
  {
   "cell_type": "code",
   "execution_count": 10,
   "metadata": {},
   "outputs": [
    {
     "name": "stdout",
     "output_type": "stream",
     "text": [
      "32\n"
     ]
    }
   ],
   "source": [
    "age=32\n",
    "if age>30:\n",
    "    print(age)"
   ]
  },
  {
   "cell_type": "code",
   "execution_count": 11,
   "metadata": {},
   "outputs": [
    {
     "ename": "NameError",
     "evalue": "name 'b' is not defined",
     "output_type": "error",
     "traceback": [
      "\u001b[0;31m---------------------------------------------------------------------------\u001b[0m",
      "\u001b[0;31mNameError\u001b[0m                                 Traceback (most recent call last)",
      "Cell \u001b[0;32mIn[11], line 2\u001b[0m\n\u001b[1;32m      1\u001b[0m \u001b[38;5;66;03m## Name Error\u001b[39;00m\n\u001b[0;32m----> 2\u001b[0m a\u001b[38;5;241m=\u001b[39m\u001b[43mb\u001b[49m\n",
      "\u001b[0;31mNameError\u001b[0m: name 'b' is not defined"
     ]
    }
   ],
   "source": [
    "## Name Error\n",
    "a=b"
   ]
  },
  {
   "cell_type": "code",
   "execution_count": 12,
   "metadata": {},
   "outputs": [
    {
     "name": "stdout",
     "output_type": "stream",
     "text": [
      "Correct Indentation\n",
      "This will print\n",
      "Outside the if block\n"
     ]
    }
   ],
   "source": [
    "## Code exmaples of indentation\n",
    "if True:\n",
    "    print(\"Correct Indentation\")\n",
    "    if False:\n",
    "        print(\"This ont print\")\n",
    "    print(\"This will print\")\n",
    "print(\"Outside the if block\")"
   ]
  },
  {
   "cell_type": "code",
   "execution_count": 13,
   "metadata": {},
   "outputs": [
    {
     "data": {
      "text/plain": [
       "'new.txt'"
      ]
     },
     "execution_count": 13,
     "metadata": {},
     "output_type": "execute_result"
    }
   ],
   "source": [
    "import shutil\n",
    "shutil.copyfile('hi.txt','new.txt')\n"
   ]
  },
  {
   "cell_type": "code",
   "execution_count": 15,
   "metadata": {},
   "outputs": [
    {
     "data": {
      "text/plain": [
       "'{\"hi\": \"mudassir\", \"1\": 2}'"
      ]
     },
     "execution_count": 15,
     "metadata": {},
     "output_type": "execute_result"
    }
   ],
   "source": [
    "import json\n",
    "jsondata = {'hi':'mudassir',1:2}\n",
    "json_str = json.dumps(jsondata)\n",
    "json_str"
   ]
  },
  {
   "cell_type": "code",
   "execution_count": 17,
   "metadata": {},
   "outputs": [
    {
     "name": "stdout",
     "output_type": "stream",
     "text": [
      "name,age\n",
      "\n",
      "mudassir,23\n",
      "\n"
     ]
    }
   ],
   "source": [
    "import csv\n",
    "\n",
    "with open('EXAMPLE.csv',mode = 'w',newline = '') as file:\n",
    "    writer = csv.writer(file)\n",
    "    writer.writerow(['name','age'])\n",
    "    writer.writerow(['mudassir',23])\n",
    "    \n",
    "    \n",
    "with open('EXAMPLE.csv',mode='r') as file:\n",
    "    reader = csv.reader(file)\n",
    "    for row in file:\n",
    "        print(row)\n",
    "        \n",
    "    "
   ]
  },
  {
   "cell_type": "code",
   "execution_count": 1,
   "metadata": {},
   "outputs": [
    {
     "name": "stdout",
     "output_type": "stream",
     "text": [
      "2024-10-18 18:32:40.650198\n"
     ]
    },
    {
     "data": {
      "text/plain": [
       "datetime.datetime(2024, 10, 17, 18, 32, 40, 650198)"
      ]
     },
     "execution_count": 1,
     "metadata": {},
     "output_type": "execute_result"
    }
   ],
   "source": [
    "from datetime import datetime,timedelta\n",
    "\n",
    "now = datetime.now()\n",
    "\n",
    "print(now)\n",
    "\n",
    "yesterday = now-timedelta(days=1)\n",
    "yesterday"
   ]
  },
  {
   "cell_type": "code",
   "execution_count": 2,
   "metadata": {},
   "outputs": [
    {
     "name": "stdout",
     "output_type": "stream",
     "text": [
      "1729256623.549498\n",
      "1729256625.5538108\n"
     ]
    }
   ],
   "source": [
    "import time\n",
    "print(time.time())\n",
    "time.sleep(2)\n",
    "print(time.time())"
   ]
  },
  {
   "cell_type": "code",
   "execution_count": 6,
   "metadata": {},
   "outputs": [
    {
     "name": "stdout",
     "output_type": "stream",
     "text": [
      "123\n"
     ]
    }
   ],
   "source": [
    "import re\n",
    "pattern = r'\\d+'\n",
    "\n",
    "text = \"there are 123 apples\"\n",
    "\n",
    "match = re.search(pattern,text)\n",
    "\n",
    "print(match.group())"
   ]
  },
  {
   "cell_type": "code",
   "execution_count": 8,
   "metadata": {},
   "outputs": [
    {
     "data": {
      "text/plain": [
       "['hi.txt',\n",
       " 'Conditionalstatements.ipynb',\n",
       " 'EXAMPLE.csv',\n",
       " '1.3-operators.ipynb',\n",
       " '1.2-Datatypes.ipynb',\n",
       " '1.1-Variables.ipynb',\n",
       " 'Loops.ipynb',\n",
       " '3.3-Sets.ipynb',\n",
       " 'intro1.py',\n",
       " '3.2-Tuples.ipynb',\n",
       " '1.0-basic.ipynb',\n",
       " '3.4-Dictionaries.ipynb',\n",
       " '3.1-Lists.ipynb',\n",
       " 'prac.ipynb',\n",
       " 'new.txt']"
      ]
     },
     "execution_count": 8,
     "metadata": {},
     "output_type": "execute_result"
    }
   ],
   "source": [
    "import os\n",
    "\n",
    "os.getcwd()\n",
    "\n",
    "os.listdir(\".\")\n"
   ]
  },
  {
   "cell_type": "code",
   "execution_count": 10,
   "metadata": {},
   "outputs": [
    {
     "data": {
      "text/plain": [
       "'/Users/mudassirmohammed/Desktop/PYTHON/INTRO/folder/file.txt'"
      ]
     },
     "execution_count": 10,
     "metadata": {},
     "output_type": "execute_result"
    }
   ],
   "source": [
    "#Joining paths...\n",
    "dir_name = \"folder\"\n",
    "file_name = \"file.txt\"\n",
    "\n",
    "full_path = os.path.join(os.getcwd(),dir_name,file_name)\n",
    "full_path\n"
   ]
  },
  {
   "cell_type": "code",
   "execution_count": 11,
   "metadata": {},
   "outputs": [
    {
     "name": "stdout",
     "output_type": "stream",
     "text": [
      "name,age\n",
      "mudassir,23\n",
      "\n",
      "file close\n"
     ]
    }
   ],
   "source": [
    "try:\n",
    "    file = open(\"EXAMPLE.csv\",'r')\n",
    "    content = file.read()\n",
    "    print(content)\n",
    "except Exception as ex:\n",
    "    print(ex)\n",
    "    \n",
    "finally:\n",
    "    if 'file' in locals() or not file.closed():\n",
    "        file.close()\n",
    "        print('file close')"
   ]
  },
  {
   "cell_type": "code",
   "execution_count": null,
   "metadata": {},
   "outputs": [],
   "source": []
  },
  {
   "cell_type": "markdown",
   "metadata": {},
   "source": [
    "### Conclusion:\n",
    "Understanding the syntax and semantics of Python is crucial for writing correct and meaningful programs. Syntax ensures the code is properly structured, while semantics ensures the code behaves as expected. Mastering these concepts will help in writing efficient and error-free Python code."
   ]
  },
  {
   "cell_type": "markdown",
   "metadata": {},
   "source": []
  }
 ],
 "metadata": {
  "kernelspec": {
   "display_name": "Python 3",
   "language": "python",
   "name": "python3"
  },
  "language_info": {
   "codemirror_mode": {
    "name": "ipython",
    "version": 3
   },
   "file_extension": ".py",
   "mimetype": "text/x-python",
   "name": "python",
   "nbconvert_exporter": "python",
   "pygments_lexer": "ipython3",
   "version": "3.12.5"
  }
 },
 "nbformat": 4,
 "nbformat_minor": 2
}
