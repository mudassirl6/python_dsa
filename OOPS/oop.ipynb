{
 "cells": [
  {
   "cell_type": "code",
   "execution_count": null,
   "metadata": {},
   "outputs": [],
   "source": [
    "# What is a Decorator in Python? (Simplified Explanation)\n",
    "\n",
    "# A decorator is a special function in Python used to modify or enhance the behavior of another function without changing its code.\n",
    "\n",
    "# Think of a decorator as wrapping a gift 🎁:\n",
    "# \t•\tThe function is the gift.\n",
    "# \t•\tThe decorator is the gift wrap that adds something extra (like making it look fancy or adding a note)."
   ]
  },
  {
   "cell_type": "code",
   "execution_count": null,
   "metadata": {},
   "outputs": [],
   "source": [
    "# 🛠️ Why Use Decorators?\n",
    "# \t•\tReuse Code: Avoid repeating code for tasks like logging, timing, or validation.\n",
    "# \t•\tAdd Functionality: Easily add features to functions (e.g., measuring time, checking permissions).\n",
    "# \t•\tKeep Code Clean: Keep the main function focused on its core purpose."
   ]
  },
  {
   "cell_type": "code",
   "execution_count": 1,
   "metadata": {},
   "outputs": [
    {
     "name": "stdout",
     "output_type": "stream",
     "text": [
      "Something is happening BEFORE the function is called.\n",
      "Hello!\n",
      "Something is happening AFTER the function is called.\n"
     ]
    }
   ],
   "source": [
    "# Decorator definition\n",
    "def my_decorator(func):\n",
    "    def wrapper():\n",
    "        print(\"Something is happening BEFORE the function is called.\")\n",
    "        func()\n",
    "        print(\"Something is happening AFTER the function is called.\")\n",
    "    return wrapper\n",
    "\n",
    "# Using the decorator\n",
    "@my_decorator\n",
    "def say_hello():\n",
    "    print(\"Hello!\")\n",
    "\n",
    "# Call the decorated function\n",
    "say_hello()"
   ]
  },
  {
   "cell_type": "code",
   "execution_count": 2,
   "metadata": {},
   "outputs": [
    {
     "name": "stdout",
     "output_type": "stream",
     "text": [
      "[log] calling add with arguments (1, 2, 3) and {}\n",
      "[log] add returned 6\n"
     ]
    },
    {
     "data": {
      "text/plain": [
       "6"
      ]
     },
     "execution_count": 2,
     "metadata": {},
     "output_type": "execute_result"
    }
   ],
   "source": [
    "import functools\n",
    "\n",
    "def logger(func):\n",
    "    @functools.wraps(func)\n",
    "    def wrapper(*args,**kwargs):\n",
    "        print(f\"[log] calling {func.__name__} with arguments {args} and {kwargs}\")\n",
    "        result = func(*args,**kwargs)\n",
    "        print(f\"[log] {func.__name__} returned {result}\")\n",
    "        return result\n",
    "    return wrapper\n",
    "\n",
    "@logger\n",
    "def add(a,b,c):\n",
    "    return a+b+c\n",
    "\n",
    "\n",
    "add(1,2,3)        "
   ]
  },
  {
   "cell_type": "code",
   "execution_count": 2,
   "metadata": {},
   "outputs": [
    {
     "data": {
      "text/plain": [
       "True"
      ]
     },
     "execution_count": 2,
     "metadata": {},
     "output_type": "execute_result"
    }
   ],
   "source": [
    "# list and its properties....\n",
    "\n",
    "5 > 3 < 4 == 3 + 1"
   ]
  },
  {
   "cell_type": "code",
   "execution_count": 5,
   "metadata": {},
   "outputs": [
    {
     "name": "stdout",
     "output_type": "stream",
     "text": [
      "Counter({1: 2, 2: 2, 4: 2, 5: 2, 3: 1, 6: 1})\n",
      "<class 'collections.Counter'>\n",
      "3\n"
     ]
    }
   ],
   "source": [
    "def first_non_repeating(lst):\n",
    "    from collections import Counter\n",
    "    count = Counter(lst)\n",
    "    print(count)\n",
    "    print(type(count))\n",
    "    for num in lst:\n",
    "        if count[num] == 1:\n",
    "            return num\n",
    "        \n",
    "    return None\n",
    "\n",
    "lst = [1,2,3,4,5,1,2,4,5,6]\n",
    "print(first_non_repeating(lst))"
   ]
  },
  {
   "cell_type": "code",
   "execution_count": 6,
   "metadata": {},
   "outputs": [
    {
     "name": "stdout",
     "output_type": "stream",
     "text": [
      "[1, 3, 12, 0, 0]\n"
     ]
    }
   ],
   "source": [
    "def move_zeros(lst):\n",
    "    non_zero = [x for x in lst if x != 0]\n",
    "    zeros = [0] * (len(lst) - len(non_zero))\n",
    "    return non_zero + zeros\n",
    "\n",
    "# Example\n",
    "lst = [0, 1, 0, 3, 12]\n",
    "print(move_zeros(lst))  # Output: [1, 3, 12, 0, 0]"
   ]
  },
  {
   "cell_type": "code",
   "execution_count": 7,
   "metadata": {},
   "outputs": [
    {
     "name": "stdout",
     "output_type": "stream",
     "text": [
      "2\n",
      "[4, 5]\n",
      "[1, 2, 3]\n"
     ]
    }
   ],
   "source": [
    "def rotate_list(lst,k):\n",
    "    k %= len(lst)\n",
    "    print(k)\n",
    "    print(lst[-k:])\n",
    "    print(lst[:-k])\n",
    "    \n",
    "rotate_list([1,2,3,4,5],2)"
   ]
  },
  {
   "cell_type": "code",
   "execution_count": 10,
   "metadata": {},
   "outputs": [
    {
     "name": "stdout",
     "output_type": "stream",
     "text": [
      "This is a string\n",
      "THIS IS A STRING\n",
      "python\n",
      "PyThon\n",
      "1\n",
      "0\n",
      "0\n",
      "False\n",
      "False\n"
     ]
    },
    {
     "data": {
      "text/plain": [
       "'PyThon'"
      ]
     },
     "execution_count": 10,
     "metadata": {},
     "output_type": "execute_result"
    }
   ],
   "source": [
    "# Assign a string to a variable\n",
    "a_string = 'tHis is a sTriNg'\n",
    "\n",
    "# Return a capitalized version of the string\n",
    "print(a_string.capitalize())\n",
    "\n",
    "# Return an uppercase version of the string\n",
    "print(a_string.upper())\n",
    "\n",
    "# Return a lowercase version of the string\n",
    "a_string = 'PyThon'\n",
    "#a_string.lower()\n",
    "print(a_string.casefold())\n",
    "\n",
    "# Notice that the methods called have not actually modified the string\n",
    "print(a_string)\n",
    "\n",
    "# Count number of occurences of a substring in the string\n",
    "print(a_string.count('P'))\n",
    "\n",
    "# Count number of occurences of a substring in the string after a certain position\n",
    "print(a_string.count('i', 7))\n",
    "\n",
    "# Count number of occurences of a substring in the string\n",
    "print(a_string.count('is'))\n",
    "\n",
    "# Does the string start with 'this'?\n",
    "print(a_string.startswith('this'))\n",
    "\n",
    "# Does the lowercase string start with 'this'?\n",
    "print(a_string.upper().startswith('this'))\n",
    "\n",
    "# Return a version of the string with a substring replaced with something else\n",
    "a_string.replace('is', 'XYZ')\n",
    "\n",
    "# Return a version of the string with a substring replaced with something else\n",
    "a_string.replace('i', '!')\n",
    "\n",
    "# Return a version of the string with the first 2 occurences a substring replaced with something else\n",
    "a_string.replace('i', '!', 2)"
   ]
  },
  {
   "cell_type": "code",
   "execution_count": 11,
   "metadata": {},
   "outputs": [
    {
     "name": "stdout",
     "output_type": "stream",
     "text": [
      "[1, 2, 3, 4, 5]\n",
      "[1, 2, 3, [4, 5, 6]]\n",
      "[1, 2, 3, 4, 5, 6]\n",
      "[1, 2, 4, 5]\n",
      "5\n",
      "[1, 2, 3, 4]\n",
      "3\n",
      "[1, 2, 4, 5]\n"
     ]
    }
   ],
   "source": [
    "my_list = [1, 2, 3, 4]\n",
    "my_list.append(5)\n",
    "print(my_list)  # Output: [1, 2, 3, 4, 5]\n",
    "\n",
    "list1 = [1, 2, 3]\n",
    "list2 = [4, 5, 6]\n",
    "\n",
    "list1.append(list2)\n",
    "print(list1)  # Output: [1, 2, 3, [4, 5, 6]]\n",
    "\n",
    "list1 = [1, 2, 3]\n",
    "list2 = [4, 5, 6]\n",
    "\n",
    "list1.extend(list2)\n",
    "print(list1)  # Output: [1, 2, 3, 4, 5, 6]\n",
    "\n",
    "my_list = [1, 2, 3, 4, 5]\n",
    "my_list.remove(3)\n",
    "print(my_list)  # Output: [1, 2, 4, 5]\n",
    "\n",
    "my_list = [1, 2, 3, 4, 5]\n",
    "last_element = my_list.pop()\n",
    "print(last_element)  # Output: 5\n",
    "print(my_list)  # Output: [1, 2, 3, 4]\n",
    "\n",
    "my_list = [1, 2, 3, 4, 5]\n",
    "element_at_index_2 = my_list.pop(2)\n",
    "print(element_at_index_2)  # Output: 3\n",
    "print(my_list)  # Output: [1, 2, 4, 5]"
   ]
  },
  {
   "cell_type": "code",
   "execution_count": 12,
   "metadata": {},
   "outputs": [
    {
     "name": "stdout",
     "output_type": "stream",
     "text": [
      "Updated dictionary: {'a': 1, 'b': 2, 'c': 3, 'd': 4}\n",
      "Updated dictionary: {'a': 1, 'b': 2, 'c': 3, 'd': 4} {'c': 3, 'd': 4}\n",
      "Removed value: 3\n",
      "Dictionary after pop: {'a': 1, 'b': 2}\n",
      "Removed value: Key not found\n",
      "Value associated with 'a': 1\n",
      "Keys: dict_keys(['a', 'b', 'c'])\n",
      "Values: dict_values([1, 2, 3])\n",
      "Items: dict_items([('a', 1), ('b', 2), ('c', 3)])\n"
     ]
    }
   ],
   "source": [
    "my_dict = {\"a\": 1, \"b\": 2}\n",
    "my_dict.update([(\"c\", 3), (\"d\", 4)])\n",
    "print(\"Updated dictionary:\", my_dict)\n",
    "\n",
    "dict1 = {\"a\": 1, \"b\": 2}\n",
    "dict2 = {\"c\": 3, \"d\": 4}\n",
    "dict1.update(dict2)\n",
    "print(\"Updated dictionary:\", dict1, dict2)\n",
    "\n",
    "my_dict = {\"a\": 1, \"b\": 2, \"c\": 3}\n",
    "removed_value = my_dict.pop(\"c\")\n",
    "print(\"Removed value:\", removed_value)\n",
    "print(\"Dictionary after pop:\", my_dict)\n",
    "\n",
    "my_dict = {\"a\": 1, \"b\": 2, \"c\": 3}\n",
    "removed_value = my_dict.pop(\"d\", \"Key not found\")\n",
    "print(\"Removed value:\", removed_value)\n",
    "\n",
    "my_dict = {\"a\": 1, \"b\": 2, \"c\": 3}\n",
    "value_a = my_dict.get(\"a\")\n",
    "print(\"Value associated with 'a':\", value_a)\n",
    "\n",
    "my_dict = {\"a\": 1, \"b\": 2, \"c\": 3}\n",
    "print(\"Keys:\", my_dict.keys())\n",
    "print(\"Values:\", my_dict.values())\n",
    "print(\"Items:\", my_dict.items())"
   ]
  },
  {
   "cell_type": "code",
   "execution_count": 14,
   "metadata": {},
   "outputs": [
    {
     "name": "stdout",
     "output_type": "stream",
     "text": [
      "Hello, my name is Alice and I am 30 years old.\n",
      "The value of pi is approximately 3.142\n",
      "Hello, my name is Bob and I am 25 years old.\n",
      "Hello, my name is Charlie and I am 35 years old.\n",
      "Hello, my name is David and I am 40 years old.\n",
      "Hello, my name is Frank and I am 45 years old.\n",
      "Hello, my name is Grace and I am 50 years old.\n"
     ]
    }
   ],
   "source": [
    "# String with Placeholder:\n",
    "name = \"Alice\"\n",
    "age = 30\n",
    "formatted_string = \"Hello, my name is %s and I am %d years old.\" % (name, age)\n",
    "print(formatted_string)\n",
    "# Output: Hello, my name is Alice and I am 30 years old.\n",
    "\n",
    "# Floating Point Number Formatting\n",
    "pi_value = 3.14159\n",
    "formatted_pi = \"The value of pi is approximately %.3f\" % pi_value\n",
    "print(formatted_pi)\n",
    "# Output: The value of pi is approximately 3.14\n",
    "\n",
    "# Basic String Formatting:\n",
    "name = \"Bob\"\n",
    "age = 25\n",
    "clg = \"test\"\n",
    "formatted_string = \"Hello, my name is {} and I am {} years old.\".format(name, age)\n",
    "print(formatted_string)\n",
    "# Output: Hello, my name is Bob and I am 25 years old.\n",
    "\n",
    "# Named Placeholder\n",
    "name = \"Charlie\"\n",
    "age = 35\n",
    "formatted_string = \"Hello, my name is {name} and I am {age} years old.\".format(age=age,name=name)\n",
    "print(formatted_string)\n",
    "# Output: Hello, my name is Charlie and I am 35 years old.\n",
    "\n",
    "# Accessing Arguments by Index\n",
    "name = \"David\"\n",
    "age = 40\n",
    "formatted_string = \"Hello, my name is {0} and I am {1} years old.\".format(name, age)\n",
    "print(formatted_string)\n",
    "# Output: Hello, my name is David and I am 40 years old.\n",
    "\n",
    "# Using Named Arguments with format_map() Method\n",
    "person = {'name': 'Frank', 'age': 45}\n",
    "formatted_string = \"Hello, my name is {name} and I am {age} years old.\".format_map(person)\n",
    "print(formatted_string)\n",
    "# Output: Hello, my name is Frank and I am 45 years old.\n",
    "\n",
    "# Using f-strings\n",
    "name = \"Grace\"\n",
    "age = 50\n",
    "formatted_string = f\"Hello, my name is {name} and I am {age} years old.\"\n",
    "print(formatted_string)\n",
    "# Output: Hello, my name is Grace and I am 50 years old."
   ]
  },
  {
   "cell_type": "code",
   "execution_count": null,
   "metadata": {},
   "outputs": [],
   "source": []
  },
  {
   "cell_type": "code",
   "execution_count": null,
   "metadata": {},
   "outputs": [],
   "source": []
  },
  {
   "cell_type": "code",
   "execution_count": null,
   "metadata": {},
   "outputs": [],
   "source": []
  },
  {
   "cell_type": "code",
   "execution_count": null,
   "metadata": {},
   "outputs": [],
   "source": []
  },
  {
   "cell_type": "code",
   "execution_count": null,
   "metadata": {},
   "outputs": [],
   "source": []
  }
 ],
 "metadata": {
  "kernelspec": {
   "display_name": "base",
   "language": "python",
   "name": "python3"
  },
  "language_info": {
   "codemirror_mode": {
    "name": "ipython",
    "version": 3
   },
   "file_extension": ".py",
   "mimetype": "text/x-python",
   "name": "python",
   "nbconvert_exporter": "python",
   "pygments_lexer": "ipython3",
   "version": "3.12.4"
  }
 },
 "nbformat": 4,
 "nbformat_minor": 2
}
