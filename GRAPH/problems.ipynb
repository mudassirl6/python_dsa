{
 "cells": [
  {
   "cell_type": "code",
   "execution_count": 1,
   "id": "96fc0fad",
   "metadata": {},
   "outputs": [
    {
     "name": "stdout",
     "output_type": "stream",
     "text": [
      "0 1 2 3 4 "
     ]
    }
   ],
   "source": [
    "## bfs\n",
    "\n",
    "def bfs(adj):\n",
    "    \n",
    "    v = len(adj)\n",
    "    res = []\n",
    "    from collections import deque\n",
    "    \n",
    "    d = deque([0])\n",
    "    \n",
    "    visited = [False]*v\n",
    "    visited[0] = True\n",
    "\n",
    "    \n",
    "    while d:\n",
    "        \n",
    "        curr = d.popleft()\n",
    "        res.append(curr)\n",
    "        \n",
    "        for x in adj[curr]:\n",
    "            if not visited[x]:\n",
    "                visited[x] = True\n",
    "                d.append(x)\n",
    "                \n",
    "                \n",
    "    return res\n",
    "\n",
    "\n",
    "if __name__ == \"__main__\":\n",
    "    \n",
    "    # create the adjacency list\n",
    "    # [ [2, 3, 1], [0], [0, 4], [0], [2] ]\n",
    "    adj = [[1,2], [0,2,3], [0,4], [1,4], [2,3]]\n",
    "    ans = bfs(adj)\n",
    "    for i in ans:\n",
    "        print(i, end=\" \")\n",
    "\n"
   ]
  },
  {
   "cell_type": "code",
   "execution_count": null,
   "id": "eb4c21de",
   "metadata": {},
   "outputs": [
    {
     "name": "stdout",
     "output_type": "stream",
     "text": [
      "0 1 2 3 4\n"
     ]
    }
   ],
   "source": [
    "def DFS(adj):\n",
    "    res = []\n",
    "    v = len(adj)\n",
    "    visited = [False]*v\n",
    "    \n",
    "    def recursion(curr,visited):\n",
    "        visited[curr] = True\n",
    "        res.append(curr)\n",
    "        for i in range(v):\n",
    "            if adj[curr][i] == 1 and not visited[i]:\n",
    "                recursion(i,visited)\n",
    "                \n",
    "                \n",
    "    recursion(0,visited)\n",
    "    return res\n",
    "    \n",
    "                \n",
    "def add_edge(adj, s, t):\n",
    "    adj[s][t] = 1\n",
    "    adj[t][s] = 1  # Since it's an undirected graph\n",
    "\n",
    "\n",
    "# Driver code\n",
    "V = 5\n",
    "adj = [[0] * V for _ in range(V)]  # Adjacency matrix\n",
    "\n",
    "# Define the edges of the graph\n",
    "edges = [(1, 2), (1, 0), (2, 0), (2, 3), (2, 4)]\n",
    "\n",
    "# Populate the adjacency matrix with edges\n",
    "for s, t in edges:\n",
    "    add_edge(adj, s, t)\n",
    "\n",
    "res = DFS(adj)  # Perform DFS\n",
    "print(\" \".join(map(str, res)))\n",
    "\n",
    "                \n",
    "                \n",
    "                "
   ]
  },
  {
   "cell_type": "code",
   "execution_count": 6,
   "id": "4c6ca736",
   "metadata": {},
   "outputs": [
    {
     "data": {
      "text/plain": [
       "2"
      ]
     },
     "execution_count": 6,
     "metadata": {},
     "output_type": "execute_result"
    }
   ],
   "source": [
    "# Number of provices\n",
    "\n",
    "def provinces(adj):\n",
    "    \n",
    "    def DFS_province(node,visited):\n",
    "        visited[node] = 1\n",
    "        \n",
    "        for x in adj[node]:\n",
    "            if not visited[x]:\n",
    "                DFS_province(x,visited)\n",
    "        \n",
    "    \n",
    "    v = len(adj)\n",
    "    count = 0\n",
    "    \n",
    "    visited = [0]*v\n",
    "    \n",
    "    for i in range(v):\n",
    "        if not visited[i]:\n",
    "            DFS_province(i,visited)\n",
    "            count += 1\n",
    "            \n",
    "    return count\n",
    "\n",
    "edges = adj = [[1, 2], [0], [], [4], [3]]\n",
    "provinces(edges)\n",
    "    \n",
    "    \n",
    "    "
   ]
  },
  {
   "cell_type": "code",
   "execution_count": null,
   "id": "ee29d0b6",
   "metadata": {},
   "outputs": [],
   "source": [
    "# flood Fill Algorithm "
   ]
  },
  {
   "cell_type": "code",
   "execution_count": null,
   "id": "218c7bcb",
   "metadata": {},
   "outputs": [],
   "source": []
  },
  {
   "cell_type": "code",
   "execution_count": null,
   "id": "78f0b9a2",
   "metadata": {},
   "outputs": [],
   "source": []
  },
  {
   "cell_type": "code",
   "execution_count": null,
   "id": "bba49704",
   "metadata": {},
   "outputs": [],
   "source": []
  },
  {
   "cell_type": "code",
   "execution_count": null,
   "id": "460386cc",
   "metadata": {},
   "outputs": [],
   "source": []
  }
 ],
 "metadata": {
  "kernelspec": {
   "display_name": "base",
   "language": "python",
   "name": "python3"
  },
  "language_info": {
   "codemirror_mode": {
    "name": "ipython",
    "version": 3
   },
   "file_extension": ".py",
   "mimetype": "text/x-python",
   "name": "python",
   "nbconvert_exporter": "python",
   "pygments_lexer": "ipython3",
   "version": "3.12.4"
  }
 },
 "nbformat": 4,
 "nbformat_minor": 5
}
