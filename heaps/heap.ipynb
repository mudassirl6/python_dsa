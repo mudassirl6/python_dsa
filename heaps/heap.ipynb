{
 "cells": [
  {
   "cell_type": "code",
   "execution_count": 3,
   "metadata": {},
   "outputs": [
    {
     "data": {
      "text/plain": [
       "[-4, 0, 1, 3, 2, 5, 10, 8, 12, 9]"
      ]
     },
     "execution_count": 3,
     "metadata": {},
     "output_type": "execute_result"
    }
   ],
   "source": [
    "# build min heap (heapify)\n",
    "a = [-4,3,1,0,2,5,10,8,12,9]\n",
    "\n",
    "import heapq\n",
    "\n",
    "heapq.heapify(a)\n",
    "a"
   ]
  },
  {
   "cell_type": "code",
   "execution_count": 4,
   "metadata": {},
   "outputs": [],
   "source": [
    "# heap push insert element\n",
    "# time : O(log N)\n",
    "\n",
    "heapq.heappush(a,4)"
   ]
  },
  {
   "cell_type": "code",
   "execution_count": 5,
   "metadata": {},
   "outputs": [
    {
     "data": {
      "text/plain": [
       "([0, 2, 1, 3, 4, 5, 10, 8, 12, 9], -4)"
      ]
     },
     "execution_count": 5,
     "metadata": {},
     "output_type": "execute_result"
    }
   ],
   "source": [
    "# heap pop extract min\n",
    "\n",
    "# time O(log N)\n",
    "\n",
    "min = heapq.heappop(a)\n",
    "\n",
    "a,min"
   ]
  },
  {
   "cell_type": "code",
   "execution_count": 9,
   "metadata": {},
   "outputs": [],
   "source": [
    "# heap\n",
    "\n",
    "def heapsort(a):\n",
    "    heapq.heapify(a)\n",
    "    n = len(a)\n",
    "    \n",
    "    new_arr = [0]*n\n",
    "    \n",
    "    for i in range(n):\n",
    "        minn = heapq.heappop(a)\n",
    "        new_arr[i] = minn\n",
    "        \n",
    "    return new_arr\n",
    "    "
   ]
  },
  {
   "cell_type": "code",
   "execution_count": 10,
   "metadata": {},
   "outputs": [
    {
     "data": {
      "text/plain": [
       "[-4, 0, 1, 2, 3, 5, 8, 9, 10, 12]"
      ]
     },
     "execution_count": 10,
     "metadata": {},
     "output_type": "execute_result"
    }
   ],
   "source": [
    "heapsort([-4,3,1,0,2,5,10,8,12,9])"
   ]
  },
  {
   "cell_type": "code",
   "execution_count": 17,
   "metadata": {},
   "outputs": [
    {
     "data": {
      "text/plain": [
       "[4, -3, -1, 0, -2, -5, -10, -8, -12, -9]"
      ]
     },
     "execution_count": 17,
     "metadata": {},
     "output_type": "execute_result"
    }
   ],
   "source": [
    "# there is no maxheap in heap framework\n",
    "\n",
    "# use minheap as max\n",
    "\n",
    "arr = [-4,3,1,0,2,5,10,8,12,9]\n",
    "\n",
    "arr = [-1*element for element in arr]\n",
    "arr"
   ]
  },
  {
   "cell_type": "code",
   "execution_count": null,
   "metadata": {},
   "outputs": [
    {
     "data": {
      "text/plain": [
       "12"
      ]
     },
     "execution_count": 18,
     "metadata": {},
     "output_type": "execute_result"
    }
   ],
   "source": [
    "heapq.heapify(arr)\n",
    "maxValue = -heapq.hea(arr)\n",
    "maxValue"
   ]
  },
  {
   "cell_type": "code",
   "execution_count": 19,
   "metadata": {},
   "outputs": [
    {
     "name": "stdout",
     "output_type": "stream",
     "text": [
      "[3, 5, 8]\n"
     ]
    }
   ],
   "source": [
    "import heapq\n",
    "\n",
    "arr = [5, 3, 8]\n",
    "heap = []  # Empty list\n",
    "\n",
    "for element in arr:\n",
    "    heapq.heappush(heap,element)  # Pushing the first element (5)\n",
    "\n",
    "print(heap)  # Output: [5]"
   ]
  },
  {
   "cell_type": "code",
   "execution_count": null,
   "metadata": {},
   "outputs": [],
   "source": [
    "# \t•\tEach heappush() operation is O(log N), where N` is the current number of elements.\n",
    "# \t•\tIf you insert N elements one by one, total complexity is O(N log N).\n",
    "\n",
    "# Why Not O(N) like heapify()?\n",
    "# \t•\theapify() works on the entire list and restructures it in O(N) time.\n",
    "# \t•\theappush() only adjusts a single element, taking O(log N) time."
   ]
  },
  {
   "cell_type": "code",
   "execution_count": null,
   "metadata": {},
   "outputs": [
    {
     "data": {
      "text/plain": [
       "[[1, 79], [2, 88]]"
      ]
     },
     "execution_count": 25,
     "metadata": {},
     "output_type": "execute_result"
    }
   ],
   "source": [
    "#high five\n",
    "arr = [[1,91],[1,92],[2,93],[2,97],[1,60],[2,77],[1,65],[1,87],[1,100],[2,100],[2,76]]\n",
    "\n",
    "output = [[1,87], [2,88]]\n",
    "\n",
    "from collections import defaultdict\n",
    "def highfive(arr):\n",
    "    result = []\n",
    "    df = defaultdict(list)\n",
    "    \n",
    "    for i,j in arr:\n",
    "        \n",
    "        heapq.heappush(df[i],-j)\n",
    "        \n",
    "        \n",
    "            \n",
    "    \n",
    "        df[i] = [-1*element for element in df[i]]\n",
    "        average = sum(df[i])//5\n",
    "        result.append([i,average])\n",
    "            \n",
    "            \n",
    "    return result\n",
    "            \n",
    "        \n",
    "        \n",
    "    \n",
    "        \n",
    "    \n",
    "    \n",
    "    \n",
    "highfive(arr)\n",
    "    "
   ]
  },
  {
   "cell_type": "code",
   "execution_count": null,
   "metadata": {},
   "outputs": [],
   "source": []
  }
 ],
 "metadata": {
  "kernelspec": {
   "display_name": "base",
   "language": "python",
   "name": "python3"
  },
  "language_info": {
   "codemirror_mode": {
    "name": "ipython",
    "version": 3
   },
   "file_extension": ".py",
   "mimetype": "text/x-python",
   "name": "python",
   "nbconvert_exporter": "python",
   "pygments_lexer": "ipython3",
   "version": "3.12.4"
  }
 },
 "nbformat": 4,
 "nbformat_minor": 2
}
