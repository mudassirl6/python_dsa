{
 "cells": [
  {
   "cell_type": "markdown",
   "metadata": {},
   "source": [
    "## DataTypes\n",
    "#### 1. Definition:\n",
    "\n",
    "- Data types are a classification of data which tell the compiler or interpreter how the programmer intends to use the data.\n",
    "- They determine the type of operations that can be performed on the data, the values that the data can take, and the amount of memory needed to store the data.\n",
    "\n",
    "#### 2. Importance of Data Types in Programming\n",
    "Explanation:\n",
    "\n",
    "- Data types ensure that data is stored in an efficient way.\n",
    "- They help in performing correct operations on data.\n",
    "- Proper use of data types can prevent errors and bugs in the program."
   ]
  },
  {
   "cell_type": "markdown",
   "metadata": {},
   "source": [
    "Video Outline:\n",
    "1. Introduction to Data Types\n",
    "2. Importance of Data Types in Programming\n",
    "3. Basic Data Types\n",
    "   - Integers\n",
    "   - Floating-point numbers\n",
    "   - Strings\n",
    "   - Booleans\n",
    "4. Advanced Data Types\n",
    "   - Lists\n",
    "   - Tuples\n",
    "   - Sets\n",
    "   - Dictionaries\n",
    "5. Type Conversion\n",
    "6. Practical Examples"
   ]
  },
  {
   "cell_type": "code",
   "execution_count": 1,
   "metadata": {},
   "outputs": [
    {
     "data": {
      "text/plain": [
       "int"
      ]
     },
     "execution_count": 1,
     "metadata": {},
     "output_type": "execute_result"
    }
   ],
   "source": [
    "## Integer Example\n",
    "age=35\n",
    "type(age)"
   ]
  },
  {
   "cell_type": "code",
   "execution_count": 2,
   "metadata": {},
   "outputs": [
    {
     "name": "stdout",
     "output_type": "stream",
     "text": [
      "5.11\n",
      "<class 'float'>\n"
     ]
    }
   ],
   "source": [
    "##floating point datatype\n",
    "height=5.11\n",
    "print(height)\n",
    "print(type(height))\n"
   ]
  },
  {
   "cell_type": "code",
   "execution_count": 3,
   "metadata": {},
   "outputs": [
    {
     "name": "stdout",
     "output_type": "stream",
     "text": [
      "Krish\n",
      "<class 'str'>\n"
     ]
    }
   ],
   "source": [
    "## string datatype example\n",
    "name=\"Krish\"\n",
    "print(name)\n",
    "print(type(name))"
   ]
  },
  {
   "cell_type": "code",
   "execution_count": 7,
   "metadata": {},
   "outputs": [
    {
     "data": {
      "text/plain": [
       "bool"
      ]
     },
     "execution_count": 7,
     "metadata": {},
     "output_type": "execute_result"
    }
   ],
   "source": [
    "## boolean datatype\n",
    "is_true=True\n",
    "type(is_true)"
   ]
  },
  {
   "cell_type": "code",
   "execution_count": 11,
   "metadata": {},
   "outputs": [
    {
     "data": {
      "text/plain": [
       "bool"
      ]
     },
     "execution_count": 11,
     "metadata": {},
     "output_type": "execute_result"
    }
   ],
   "source": [
    "a=10\n",
    "b=10\n",
    "\n",
    "type(a==b)\n"
   ]
  },
  {
   "cell_type": "code",
   "execution_count": 12,
   "metadata": {},
   "outputs": [
    {
     "ename": "TypeError",
     "evalue": "can only concatenate str (not \"int\") to str",
     "output_type": "error",
     "traceback": [
      "\u001b[1;31m---------------------------------------------------------------------------\u001b[0m",
      "\u001b[1;31mTypeError\u001b[0m                                 Traceback (most recent call last)",
      "Cell \u001b[1;32mIn[12], line 3\u001b[0m\n\u001b[0;32m      1\u001b[0m \u001b[38;5;66;03m## common errors\u001b[39;00m\n\u001b[1;32m----> 3\u001b[0m result\u001b[38;5;241m=\u001b[39m\u001b[38;5;124;43m\"\u001b[39;49m\u001b[38;5;124;43mHello\u001b[39;49m\u001b[38;5;124;43m\"\u001b[39;49m\u001b[43m \u001b[49m\u001b[38;5;241;43m+\u001b[39;49m\u001b[43m \u001b[49m\u001b[38;5;241;43m5\u001b[39;49m\n",
      "\u001b[1;31mTypeError\u001b[0m: can only concatenate str (not \"int\") to str"
     ]
    }
   ],
   "source": [
    "## common errors\n",
    "\n",
    "result=\"Hello\" + 5\n",
    " "
   ]
  },
  {
   "cell_type": "code",
   "execution_count": 14,
   "metadata": {},
   "outputs": [
    {
     "name": "stdout",
     "output_type": "stream",
     "text": [
      "Hello5\n"
     ]
    }
   ],
   "source": [
    "result=\"Hello\" + str(5)\n",
    "print(result)"
   ]
  },
  {
   "cell_type": "code",
   "execution_count": 1,
   "metadata": {},
   "outputs": [
    {
     "name": "stdout",
     "output_type": "stream",
     "text": [
      "1500\n"
     ]
    }
   ],
   "source": [
    "class BankAccount:\n",
    "    def __init__(self, account_holder, balance):\n",
    "        self.account_holder = account_holder  # Public attribute\n",
    "        self.__balance = balance             # Private attribute (cannot be accessed directly)\n",
    "\n",
    "    def deposit(self, amount):\n",
    "        self.__balance += amount\n",
    "\n",
    "    def withdraw(self, amount):\n",
    "        if amount <= self.__balance:\n",
    "            self.__balance -= amount\n",
    "        else:\n",
    "            print(\"Insufficient balance!\")\n",
    "\n",
    "    def get_balance(self):  # Controlled access to the private attribute\n",
    "        return self.__balance\n",
    "\n",
    "# Usage\n",
    "account = BankAccount(\"Alice\", 1000)\n",
    "account.deposit(500)\n",
    "print(account.get_balance())  # Output: 1500"
   ]
  },
  {
   "cell_type": "code",
   "execution_count": null,
   "metadata": {},
   "outputs": [],
   "source": [
    "class BankAccount:\n",
    "    def __init__(self,account_holder,balance):\n",
    "        self.account_holder = account_holder\n",
    "        self.__balance = balance\n",
    "        \n",
    "    def deposit(self,amount):\n",
    "        self.__balance += amount\n",
    "    def withdraw(self, amount):\n",
    "        if amount <= self.__balance:\n",
    "            self.__balance -= amount\n",
    "            \n",
    "        else:\n",
    "            print(\"Insufficient balance!\")\n",
    "            \n",
    "            \n",
    "    def get_balance(self):\n",
    "        return self.__balance\n",
    "    \n",
    "    \n",
    "    \n",
    "    \n",
    "        "
   ]
  },
  {
   "cell_type": "code",
   "execution_count": null,
   "metadata": {},
   "outputs": [],
   "source": [
    "# #set attributes\n",
    "# add\n",
    "# update_\n",
    "# set.add()\n",
    "# set.remove()\n",
    "# set.pop()\n",
    "# set.difference(set2)\n",
    "\n",
    "Some methods on dict objects\n",
    "\n",
    ".update([(key1, val1), (key2, val2), ...]) to add multiple key-value pairs to the dict.update(dict2) to add all keys and values from another dict to the dict.pop(key) to remove key and return its value from the dict (error if key not found).pop(key, default_val) to remove key and return its value from the dict (or return default_val if key not found).get(key) to return the value at a specified key in the dict (or None if key not found).get(key, default_val) to return the value at a specified key in the dict (or default_val if key not found).keys() to return a list of keys in the dict.values() to return a list of values in the dict.items() to return a list of key-value pairs (tuples) in the dict\n"
   ]
  },
  {
   "cell_type": "code",
   "execution_count": 2,
   "metadata": {},
   "outputs": [
    {
     "name": "stdout",
     "output_type": "stream",
     "text": [
      "Updated dictionary: {'a': 1, 'b': 2, 'c': 3, 'd': 4}\n",
      "Updated dictionary: {'a': 1, 'b': 2, 'c': 3, 'd': 4} {'c': 3, 'd': 4}\n",
      "Removed value: 3\n",
      "Dictionary after pop: {'a': 1, 'b': 2}\n",
      "Removed value: Key not found\n",
      "Value associated with 'a': 1\n",
      "Keys: dict_keys(['a', 'b', 'c'])\n",
      "Values: dict_values([1, 2, 3])\n",
      "Items: dict_items([('a', 1), ('b', 2), ('c', 3)])\n"
     ]
    }
   ],
   "source": [
    "my_dict = {\"a\": 1, \"b\": 2}\n",
    "my_dict.update([(\"c\", 3), (\"d\", 4)])\n",
    "print(\"Updated dictionary:\", my_dict)\n",
    "\n",
    "dict1 = {\"a\": 1, \"b\": 2}\n",
    "dict2 = {\"c\": 3, \"d\": 4}\n",
    "dict1.update(dict2)\n",
    "print(\"Updated dictionary:\", dict1, dict2)\n",
    "\n",
    "my_dict = {\"a\": 1, \"b\": 2, \"c\": 3}\n",
    "removed_value = my_dict.pop(\"c\")\n",
    "print(\"Removed value:\", removed_value)\n",
    "print(\"Dictionary after pop:\", my_dict)\n",
    "\n",
    "my_dict = {\"a\": 1, \"b\": 2, \"c\": 3}\n",
    "removed_value = my_dict.pop(\"d\", \"Key not found\")\n",
    "print(\"Removed value:\", removed_value)\n",
    "\n",
    "my_dict = {\"a\": 1, \"b\": 2, \"c\": 3}\n",
    "value_a = my_dict.get(\"a\")\n",
    "print(\"Value associated with 'a':\", value_a)\n",
    "\n",
    "my_dict = {\"a\": 1, \"b\": 2, \"c\": 3}\n",
    "print(\"Keys:\", my_dict.keys())\n",
    "print(\"Values:\", my_dict.values())\n",
    "print(\"Items:\", my_dict.items())"
   ]
  },
  {
   "cell_type": "code",
   "execution_count": 4,
   "metadata": {},
   "outputs": [
    {
     "name": "stdout",
     "output_type": "stream",
     "text": [
      "25\n",
      "6\n"
     ]
    }
   ],
   "source": [
    "hi = lambda x: x**2\n",
    "print(hi(5))\n",
    "\n",
    "add = lambda a,b,c : a+b+c\n",
    "print(add(1,2,3))"
   ]
  },
  {
   "cell_type": "code",
   "execution_count": 7,
   "metadata": {},
   "outputs": [
    {
     "name": "stdout",
     "output_type": "stream",
     "text": [
      "[2, 4, 6, 8, 10]\n"
     ]
    }
   ],
   "source": [
    "# # lambda functions in higher order functions\n",
    "\n",
    "# the map function is used to used to apply a function to each item in an iterable object\n",
    "\n",
    "list1 = [1,2,3,4,5]\n",
    "\n",
    "new_list = list(map(lambda x : x*2,list1))\n",
    "\n",
    "print(new_list)\n",
    "\n",
    "\n"
   ]
  },
  {
   "cell_type": "code",
   "execution_count": 8,
   "metadata": {},
   "outputs": [
    {
     "name": "stdout",
     "output_type": "stream",
     "text": [
      "[2, 4]\n"
     ]
    }
   ],
   "source": [
    "nums = [1, 2, 3, 4]\n",
    "even_nums = list(filter(lambda x: x % 2 == 0, nums))\n",
    "print(even_nums)  # Output: [2, 4]"
   ]
  },
  {
   "cell_type": "code",
   "execution_count": 9,
   "metadata": {},
   "outputs": [
    {
     "name": "stdout",
     "output_type": "stream",
     "text": [
      "[(1, 'apple'), (3, 'banana'), (2, 'orange')]\n"
     ]
    }
   ],
   "source": [
    "pairs = [(1, 'apple'), (2, 'orange'), (3, 'banana')]\n",
    "sorted_pairs = sorted(pairs, key=lambda x: x[1])\n",
    "\n",
    "sorted_pairs = sorted(pairs,key = lambda x:x[1])\n",
    "print(sorted_pairs)  # Output: [(1, 'apple'), (3, 'banana'), (2, 'orange')]"
   ]
  },
  {
   "cell_type": "code",
   "execution_count": null,
   "metadata": {},
   "outputs": [],
   "source": [
    "# # static protocol\n",
    "\n",
    "\n",
    "# typing module has protocol class and this lets you build intefaces and\n",
    "# check that objects satify them implicitly\n",
    "# this called static ducktyping"
   ]
  },
  {
   "cell_type": "code",
   "execution_count": 10,
   "metadata": {},
   "outputs": [],
   "source": [
    "from typing import Protocol\n",
    "\n",
    "class printable(Protocol):\n",
    "    def print(self) -> None:\n",
    "        pass\n",
    "    \n",
    "    \n",
    "class Book:\n",
    "    def __init__(self, title: str):\n",
    "        self.title = title\n",
    "\n",
    "    def print(self) -> None:\n",
    "        print(f\"Book Title: {self.title}\")"
   ]
  },
  {
   "cell_type": "code",
   "execution_count": null,
   "metadata": {},
   "outputs": [],
   "source": [
    "def print_object(obj: printable):\n",
    "    obj.print()"
   ]
  },
  {
   "cell_type": "code",
   "execution_count": 14,
   "metadata": {},
   "outputs": [],
   "source": [
    "class Flyer(Protocol):\n",
    "    def fly(self):\n",
    "        print(\"fly\")\n",
    "        \n",
    "class FlyingHero:\n",
    "    \"\"\"This hero can fly, which is BEAST.\"\"\"\n",
    "    def fly(self):\n",
    "        # Do some flying...\n",
    "        pass\n",
    "    \n",
    "class RunningHero:\n",
    "    \"\"\"This hero can run. Better than nothing!\"\"\"\n",
    "    def run(self):\n",
    "        # Run for your life!\n",
    "        pass"
   ]
  },
  {
   "cell_type": "code",
   "execution_count": 15,
   "metadata": {},
   "outputs": [],
   "source": [
    "class Board:\n",
    "    \"\"\"An imaginary game board that doesn't do anything.\"\"\"\n",
    "    def make_fly(self, obj: Flyer) -> None:   # <- Here's the magic\n",
    "        \"\"\"Make an object fly.\"\"\"\n",
    "        return obj.fly()"
   ]
  },
  {
   "cell_type": "code",
   "execution_count": 16,
   "metadata": {},
   "outputs": [],
   "source": [
    "board = Board()\n",
    "board.make_fly(FlyingHero())\n",
    "# board.make_fly(RunningHero())  # "
   ]
  },
  {
   "cell_type": "code",
   "execution_count": 17,
   "metadata": {},
   "outputs": [
    {
     "name": "stdout",
     "output_type": "stream",
     "text": [
      "I am public\n",
      "I am protected\n",
      "I am private\n"
     ]
    }
   ],
   "source": [
    "class MyClass:\n",
    "    def __init__(self):\n",
    "        self.public_var = \"I am public\"\n",
    "        self._protected_var = \"I am protected\"\n",
    "        self.__private_var = \"I am private\"\n",
    "\n",
    "    def get_private_var(self):\n",
    "        return self.__private_var\n",
    "\n",
    "# Create an instance of MyClass\n",
    "obj = MyClass()\n",
    "\n",
    "# Accessing public variable\n",
    "print(obj.public_var)  # Output: I am public\n",
    "\n",
    "# Accessing protected variable\n",
    "print(obj._protected_var)  # Output: I am protected\n",
    "\n",
    "# Accessing private variable directly (will raise an AttributeError)\n",
    "# print(obj.__private_var)  # Uncommenting this line will raise an AttributeError\n",
    "\n",
    "# Accessing private variable using a public method\n",
    "print(obj.get_private_var())  # Output: I am private"
   ]
  },
  {
   "cell_type": "code",
   "execution_count": null,
   "metadata": {},
   "outputs": [],
   "source": []
  }
 ],
 "metadata": {
  "kernelspec": {
   "display_name": "base",
   "language": "python",
   "name": "python3"
  },
  "language_info": {
   "codemirror_mode": {
    "name": "ipython",
    "version": 3
   },
   "file_extension": ".py",
   "mimetype": "text/x-python",
   "name": "python",
   "nbconvert_exporter": "python",
   "pygments_lexer": "ipython3",
   "version": "3.12.4"
  }
 },
 "nbformat": 4,
 "nbformat_minor": 2
}
