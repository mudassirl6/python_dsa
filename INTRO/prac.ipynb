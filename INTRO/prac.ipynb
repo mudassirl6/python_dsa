{
 "cells": [
  {
   "cell_type": "code",
   "execution_count": 1,
   "metadata": {},
   "outputs": [],
   "source": [
    "# mystr = \"M123\"\n",
    "# mystr.isalnum\n",
    "# mystr.isalpha\n",
    "# mystr.isdigit\n",
    "# mystr.istitle\n",
    "# mystr\n",
    "class Car:\n",
    "    pass\n",
    "\n",
    "car = Car()"
   ]
  },
  {
   "cell_type": "code",
   "execution_count": 2,
   "metadata": {},
   "outputs": [],
   "source": [
    "car.window = 12\n",
    "car.wheel = 2"
   ]
  },
  {
   "cell_type": "code",
   "execution_count": 4,
   "metadata": {},
   "outputs": [
    {
     "name": "stdout",
     "output_type": "stream",
     "text": [
      "12\n"
     ]
    },
    {
     "data": {
      "text/plain": [
       "['__class__',\n",
       " '__delattr__',\n",
       " '__dict__',\n",
       " '__dir__',\n",
       " '__doc__',\n",
       " '__eq__',\n",
       " '__format__',\n",
       " '__ge__',\n",
       " '__getattribute__',\n",
       " '__getstate__',\n",
       " '__gt__',\n",
       " '__hash__',\n",
       " '__init__',\n",
       " '__init_subclass__',\n",
       " '__le__',\n",
       " '__lt__',\n",
       " '__module__',\n",
       " '__ne__',\n",
       " '__new__',\n",
       " '__reduce__',\n",
       " '__reduce_ex__',\n",
       " '__repr__',\n",
       " '__setattr__',\n",
       " '__sizeof__',\n",
       " '__str__',\n",
       " '__subclasshook__',\n",
       " '__weakref__',\n",
       " 'wheel',\n",
       " 'window']"
      ]
     },
     "execution_count": 4,
     "metadata": {},
     "output_type": "execute_result"
    }
   ],
   "source": [
    "print(car.window)\n",
    "dir(car)"
   ]
  },
  {
   "cell_type": "code",
   "execution_count": 5,
   "metadata": {},
   "outputs": [
    {
     "name": "stdout",
     "output_type": "stream",
     "text": [
      "{'name': <class 'str'>, 'return': <class 'str'>}\n",
      "Hello, Alice!\n",
      "{'a': <class 'int'>, 'b': <class 'int'>, 'return': <class 'int'>}\n",
      "The sum is: 8\n"
     ]
    }
   ],
   "source": [
    "def greet(name: str) -> str:\n",
    "    return f\"Hello, {name}!\"\n",
    "\n",
    "# Accessing function annotations\n",
    "print(greet.__annotations__)\n",
    "# Output: {'name': <class 'str'>, 'return': <class 'str'>}\n",
    "\n",
    "# Calling the function\n",
    "print(greet(\"Alice\"))\n",
    "# Output: Hello, Alice!\n",
    "\n",
    "def calculate_sum(a: int, b: int) -> int:\n",
    "    return a + b\n",
    "\n",
    "# Accessing function annotations\n",
    "print(calculate_sum.__annotations__)\n",
    "# Output: {'a': <class 'int'>, 'b': <class 'int'>, 'return': <class 'int'>}\n",
    "\n",
    "# Calling the function\n",
    "result = calculate_sum(5, 3)\n",
    "print(f\"The sum is: {result}\")\n",
    "# Output: The sum is: 8"
   ]
  },
  {
   "cell_type": "code",
   "execution_count": 1,
   "metadata": {},
   "outputs": [
    {
     "name": "stdout",
     "output_type": "stream",
     "text": [
      "120\n"
     ]
    }
   ],
   "source": [
    "#recursion\n",
    "def factorial(n):\n",
    "    if n == 1:\n",
    "        return 1\n",
    "    return n*factorial(n-1)\n",
    "\n",
    "print(factorial(5))"
   ]
  },
  {
   "cell_type": "code",
   "execution_count": 4,
   "metadata": {},
   "outputs": [
    {
     "name": "stdout",
     "output_type": "stream",
     "text": [
      "0\n",
      "1\n",
      "1\n",
      "2\n",
      "3\n",
      "5\n",
      "8\n",
      "13\n",
      "21\n",
      "34\n"
     ]
    }
   ],
   "source": [
    "#Fibonnaci series\n",
    "def fib(n):\n",
    "    if n == 1 or n == 0:\n",
    "        return n\n",
    "    \n",
    "    return fib(n-1)+fib(n-2)\n",
    "\n",
    "\n",
    "for i in range(10):\n",
    "    print(fib(i))"
   ]
  },
  {
   "cell_type": "code",
   "execution_count": 23,
   "metadata": {},
   "outputs": [
    {
     "name": "stdout",
     "output_type": "stream",
     "text": [
      "False\n"
     ]
    }
   ],
   "source": [
    "#Check if an array is sorted is or not\n",
    "arr = [1,2,-6 ,4,12321,5,6,4]\n",
    "def isSorted(arr,i):\n",
    "    if i == len(arr)-1:\n",
    "        return True\n",
    "    \n",
    "    if arr[i] > arr[i+1]:\n",
    "        return False\n",
    "    \n",
    "\n",
    "    return isSorted(arr,i+1)\n",
    "\n",
    "    \n",
    "print(isSorted(arr,0))"
   ]
  },
  {
   "cell_type": "code",
   "execution_count": 24,
   "metadata": {},
   "outputs": [
    {
     "name": "stdout",
     "output_type": "stream",
     "text": [
      "3\n"
     ]
    }
   ],
   "source": [
    "#Write a function to find the first occurence of an element\n",
    "def firstOccurence(arr,i,key):\n",
    "    \n",
    "    if i == len(arr):\n",
    "        return -1\n",
    "    \n",
    "    if arr[i] == key:\n",
    "        return i\n",
    "    return firstOccurence(arr,i+1,key)\n",
    "\n",
    "print(firstOccurence(arr,0,4))"
   ]
  },
  {
   "cell_type": "code",
   "execution_count": 26,
   "metadata": {},
   "outputs": [
    {
     "name": "stdout",
     "output_type": "stream",
     "text": [
      "3\n"
     ]
    }
   ],
   "source": [
    "def lastOccurence(arr,i,key):\n",
    "    if i == len(arr):\n",
    "        return -1\n",
    "    \n",
    "    islast = lastOccurence(arr,i+1,key)\n",
    "    if islast == -1 and arr[i] == key:\n",
    "        return i\n",
    "    \n",
    "    \n",
    "    return islast\n",
    "\n",
    "print(lastOccurence([1,2,3,1,4],0,1))"
   ]
  },
  {
   "cell_type": "code",
   "execution_count": 29,
   "metadata": {},
   "outputs": [
    {
     "name": "stdout",
     "output_type": "stream",
     "text": [
      "787 23 "
     ]
    }
   ],
   "source": [
    "def kLargest(arr,k):\n",
    "    # code here\n",
    "    while k > 0:\n",
    "        max_element = float('-inf')\n",
    "        for element in arr:\n",
    "            max_element = max(element, max_element)\n",
    "        \n",
    "        k -= 1\n",
    "        print(max_element, end=\" \")\n",
    "        arr.remove(max_element)\n",
    "        \n",
    "kLargest([12, 5, 787 ,1 ,23],2)\n",
    "\t\t    "
   ]
  },
  {
   "cell_type": "code",
   "execution_count": null,
   "metadata": {},
   "outputs": [],
   "source": [
    "str1 = \"abc\"\n",
    "set1"
   ]
  },
  {
   "cell_type": "code",
   "execution_count": 3,
   "metadata": {},
   "outputs": [],
   "source": [
    "from abc import ABC, abstractmethod\n",
    "\n",
    "class Vehicle(ABC):\n",
    "    def __init__(self):\n",
    "        super().__init__()"
   ]
  },
  {
   "cell_type": "code",
   "execution_count": 4,
   "metadata": {},
   "outputs": [
    {
     "name": "stdout",
     "output_type": "stream",
     "text": [
      "True\n"
     ]
    }
   ],
   "source": [
    "#Bus class is implementing all the methods and registers as subclass\n",
    "@Vehicle.register\n",
    "class Bus():\n",
    "    # def start(self):\n",
    "    #     print(\"The bus is starting\")\n",
    "\n",
    "    # def stop(self):\n",
    "    #     print(\"The bus is stopping\")\n",
    "\n",
    "    # def drive(self):\n",
    "    #     print(\"The bus is driving\")\n",
    "\n",
    "    def key(self):\n",
    "      return \"Key\"\n",
    "\n",
    "\n",
    "b = Bus()\n",
    "print(issubclass(Bus, Vehicle))"
   ]
  }
 ],
 "metadata": {
  "kernelspec": {
   "display_name": "base",
   "language": "python",
   "name": "python3"
  },
  "language_info": {
   "codemirror_mode": {
    "name": "ipython",
    "version": 3
   },
   "file_extension": ".py",
   "mimetype": "text/x-python",
   "name": "python",
   "nbconvert_exporter": "python",
   "pygments_lexer": "ipython3",
   "version": "3.12.4"
  }
 },
 "nbformat": 4,
 "nbformat_minor": 2
}
